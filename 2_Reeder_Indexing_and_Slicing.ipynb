{
  "nbformat": 4,
  "nbformat_minor": 0,
  "metadata": {
    "colab": {
      "provenance": [],
      "include_colab_link": true
    },
    "kernelspec": {
      "name": "python3",
      "display_name": "Python 3"
    },
    "language_info": {
      "name": "python"
    }
  },
  "cells": [
    {
      "cell_type": "markdown",
      "metadata": {
        "id": "view-in-github",
        "colab_type": "text"
      },
      "source": [
        "<a href=\"https://colab.research.google.com/github/dcreeder89/index-and-slice-racing-and-shop-supply/blob/main/2_Reeder_Indexing_and_Slicing.ipynb\" target=\"_parent\"><img src=\"https://colab.research.google.com/assets/colab-badge.svg\" alt=\"Open In Colab\"/></a>"
      ]
    },
    {
      "cell_type": "markdown",
      "source": [
        "# Indexing and Slicing\n",
        "- Turtle Racing and Costume Shop Supply"
      ],
      "metadata": {
        "id": "eyLJH2OFOtxy"
      }
    },
    {
      "cell_type": "markdown",
      "source": [
        "In this notebook you will see examples of indexing into lists and tuples.\n"
      ],
      "metadata": {
        "id": "zPAul2iiPAEL"
      }
    },
    {
      "cell_type": "markdown",
      "source": [
        "# Indexing\n",
        "\n",
        "## Turtle Racing\n",
        "\n",
        "Longville, MN holds turtle races each summer.  Prizes are given out for the fastest and slowest turtles and there is an additional randomly assigned prize as well.  \n",
        "\n",
        "Let's make a list of turtles in the order that they crossed the finish line.  Since lists are ordered and `.append()` adds to the end of a list, we can use that method to add turtles as they finish.\n",
        "\n",
        "Run the cell below to create the list of racing turtles."
      ],
      "metadata": {
        "id": "vmBZ_iwwSVk5"
      }
    },
    {
      "cell_type": "code",
      "source": [
        "# Run this cell without making changes.\n",
        "\n",
        "# Create an empty list\n",
        "race_winners = []\n",
        "\n",
        "# Add the first finisher\n",
        "race_winners.append('Speedy')\n",
        "\n",
        "# Add each additional finisher to the end of the list in order.\n",
        "race_winners.append('Sparkles')\n",
        "race_winners.append('Little Foot')\n",
        "race_winners.append('Spike')\n",
        "race_winners.append('Greg the Destroyer')\n",
        "race_winners.append('Slowpoke')\n",
        "\n",
        "# Print the resulting list.\n",
        "print(race_winners)"
      ],
      "metadata": {
        "id": "gNEZel1QO0dB",
        "colab": {
          "base_uri": "https://localhost:8080/"
        },
        "outputId": "c0729388-0291-425a-f6c9-d6d9b8a48b00"
      },
      "execution_count": null,
      "outputs": [
        {
          "output_type": "stream",
          "name": "stdout",
          "text": [
            "['Speedy', 'Sparkles', 'Little Foot', 'Spike', 'Greg the Destroyer', 'Slowpoke']\n"
          ]
        }
      ]
    },
    {
      "cell_type": "markdown",
      "source": [
        "| Index           |   0    |    1     |     2       |   3   |         4          |    5     |\n",
        "|-----------------|--------|----------|-------------|-------|--------------------|----------|\n",
        "| race_winners =  | Speedy | Sparkles | Little Foot | Spike | Greg the Destroyer | Slowpoke |\n",
        "| Negative Index  |    -6    |   -5     |    -4       |  -3   |        -2          |   -1     |"
      ],
      "metadata": {
        "id": "mYd1qAVYAFV0"
      }
    },
    {
      "cell_type": "markdown",
      "source": [
        "### First Place\n",
        "\n",
        "Indices in Python start counting from 0.  In the following cell, use list indexing to print the first place winner of the race.  The owner of that turtle will get a coupon for a free ice cream cone!\n",
        "\n",
        "Remember that you can index into a collection using brackets, like `collection[3]`.  Use this syntax to print the first racer in the `race_winners` list."
      ],
      "metadata": {
        "id": "fYXNbbgIXK4I"
      }
    },
    {
      "cell_type": "code",
      "source": [
        "# Print the first place finisher at index position 0\n",
        "\n",
        "print(race_winners[0])"
      ],
      "metadata": {
        "id": "BwbiUhpeW-_m",
        "colab": {
          "base_uri": "https://localhost:8080/"
        },
        "outputId": "d5957a91-f07f-423b-8cd4-dbec27b50a69"
      },
      "execution_count": null,
      "outputs": [
        {
          "output_type": "stream",
          "name": "stdout",
          "text": [
            "Speedy\n"
          ]
        }
      ]
    },
    {
      "cell_type": "markdown",
      "source": [
        "# 💪Your Turn\n",
        " ### Last Place\n",
        "\n",
        "The owner of the slowest turtle will get a coupon for a free chocolate bar!  Remember that negative index numbers count backward from the end of the list. `collection[-3]` would return the 3rd from the last item from a collection.\n",
        "\n",
        "* Use negative indexing to print the last place racer in the `race_winners` list.  "
      ],
      "metadata": {
        "id": "vKxzHXKgXcwa"
      }
    },
    {
      "cell_type": "code",
      "source": [
        "# Print the last place finisher at index position -1\n",
        "print(race_winners[-1])"
      ],
      "metadata": {
        "id": "Q55nDWS-XGI3",
        "colab": {
          "base_uri": "https://localhost:8080/"
        },
        "outputId": "8096b544-3117-46ba-8a8a-4f5806ca6017"
      },
      "execution_count": null,
      "outputs": [
        {
          "output_type": "stream",
          "name": "stdout",
          "text": [
            "Slowpoke\n"
          ]
        }
      ]
    },
    {
      "cell_type": "markdown",
      "source": [
        "# Oops!\n",
        "\n",
        "We just found out that we got the name of the second place turtle wrong.  We wrote 'Sparkles' when it's name is actually 'Sparkly'  We can use indexing to change the second value in a list because lists are both ordered and mutable."
      ],
      "metadata": {
        "id": "tNXGnzlln5ms"
      }
    },
    {
      "cell_type": "code",
      "source": [
        "# Change the name at index 2 to 'Sparkly'\n",
        "\n",
        "race_winners[1] = 'Sparkly'\n",
        "\n",
        "# Print the result\n",
        "print(race_winners)"
      ],
      "metadata": {
        "id": "vJ5pc8yboQXy",
        "colab": {
          "base_uri": "https://localhost:8080/"
        },
        "outputId": "053892f1-f806-4f09-c6ce-373f2b8d84f8"
      },
      "execution_count": null,
      "outputs": [
        {
          "output_type": "stream",
          "name": "stdout",
          "text": [
            "['Speedy', 'Sparkly', 'Little Foot', 'Spike', 'Greg the Destroyer', 'Slowpoke']\n"
          ]
        }
      ]
    },
    {
      "cell_type": "markdown",
      "source": [
        "### Random Raffle Winner\n",
        "\n",
        "Next a random turtle that is neither the first nor the last place winner will receive a commemorative T-shirt for this year's race.\n",
        "\n",
        "First we need to remove the first and last place racers from the list.  In Python you can use the keyword `del` to delete objects from memory.  This works with list indices.\n",
        "\n",
        "Use `del` to delete the first and last place racers from the `race_winners` list.  Print out the result to check that your code worked correctly."
      ],
      "metadata": {
        "id": "Rf6f5YXVYArB"
      }
    },
    {
      "cell_type": "code",
      "source": [
        "# Remove the first place finisher from the list\n",
        "del race_winners[0]\n",
        "# Remove the last place finisher from the list\n",
        "del race_winners[-1]\n",
        "# Print the result\n",
        "print(race_winners)"
      ],
      "metadata": {
        "id": "z0g7JPuVX9fo",
        "colab": {
          "base_uri": "https://localhost:8080/"
        },
        "outputId": "bf6c1b56-431e-403b-ae73-43ea7dd5352c"
      },
      "execution_count": null,
      "outputs": [
        {
          "output_type": "stream",
          "name": "stdout",
          "text": [
            "['Sparkly', 'Little Foot', 'Spike', 'Greg the Destroyer']\n"
          ]
        }
      ]
    },
    {
      "cell_type": "markdown",
      "source": [
        "There should be 4 turtles remaining in the race list and the first and last place winners should not be present."
      ],
      "metadata": {
        "id": "16qiOncuZXln"
      }
    },
    {
      "cell_type": "markdown",
      "source": [
        "The code below will generate a random number between 0 and the length of `race_winners - 1`.  We have to use the `- 1` because the length of `race_winners` is 4 and index 4 is the fifth element of a collection.  Our collection is only 4 items long so we would get an error if we tried to index into the 5th position."
      ],
      "metadata": {
        "id": "YTzgqN5bZ_im"
      }
    },
    {
      "cell_type": "code",
      "source": [
        "# Run this code without changes.\n",
        "# Import the 'random' Python library\n",
        "import random\n",
        "\n",
        "# Create a random integer between 0 and 3 inclusive\n",
        "random_draw = random.randint(0, len(race_winners) - 1)"
      ],
      "metadata": {
        "id": "kpSt_8IoZV2g"
      },
      "execution_count": null,
      "outputs": []
    },
    {
      "cell_type": "markdown",
      "source": [
        "Now that we have a random integer, we can use it to select a random turtle from `race_winners` list.\n",
        "\n",
        "You can use a variable that points to an integer in place of the integer in the index call to return an element from a collection.\n",
        "\n",
        "Use the `random_draw` variable in place of an index number to select a random turtle from the `race_winners` list."
      ],
      "metadata": {
        "id": "y99q7Hiba5Fw"
      }
    },
    {
      "cell_type": "code",
      "source": [
        "# Print a random turtle from those remaining in the list using `random_draw`\n",
        "print(race_winners[random_draw])"
      ],
      "metadata": {
        "id": "ai6PfbWyZrsI",
        "colab": {
          "base_uri": "https://localhost:8080/"
        },
        "outputId": "193de11e-caaf-43b8-b735-3d394966d657"
      },
      "execution_count": null,
      "outputs": [
        {
          "output_type": "stream",
          "name": "stdout",
          "text": [
            "Little Foot\n"
          ]
        }
      ]
    },
    {
      "cell_type": "markdown",
      "source": [
        "You've awarded all three of the prizes!  You can test the random number generator by running the previous cells multiple times to see a different winner each time."
      ],
      "metadata": {
        "id": "HimtpTUObyx-"
      }
    },
    {
      "cell_type": "markdown",
      "source": [
        "## `IndexError`\n",
        "\n",
        "If we try to retrieve an item that is before the beginning or after the end of a collection we will get an `IndexError`."
      ],
      "metadata": {
        "id": "lk257cZmr9Bl"
      }
    },
    {
      "cell_type": "code",
      "source": [
        "# Print the 11th item in the race_winners list\n",
        "print(race_winners[10])"
      ],
      "metadata": {
        "id": "JTNneXI1sHVF",
        "colab": {
          "base_uri": "https://localhost:8080/",
          "height": 183
        },
        "outputId": "499c46cb-2a68-49c1-a7a4-42e2c2cf6a36"
      },
      "execution_count": null,
      "outputs": [
        {
          "output_type": "error",
          "ename": "IndexError",
          "evalue": "ignored",
          "traceback": [
            "\u001b[0;31m---------------------------------------------------------------------------\u001b[0m",
            "\u001b[0;31mIndexError\u001b[0m                                Traceback (most recent call last)",
            "\u001b[0;32m<ipython-input-17-030f7ee73426>\u001b[0m in \u001b[0;36m<module>\u001b[0;34m\u001b[0m\n\u001b[1;32m      1\u001b[0m \u001b[0;31m# Print the 11th item in the race_winners list\u001b[0m\u001b[0;34m\u001b[0m\u001b[0;34m\u001b[0m\u001b[0;34m\u001b[0m\u001b[0m\n\u001b[0;32m----> 2\u001b[0;31m \u001b[0mprint\u001b[0m\u001b[0;34m(\u001b[0m\u001b[0mrace_winners\u001b[0m\u001b[0;34m[\u001b[0m\u001b[0;36m10\u001b[0m\u001b[0;34m]\u001b[0m\u001b[0;34m)\u001b[0m\u001b[0;34m\u001b[0m\u001b[0;34m\u001b[0m\u001b[0m\n\u001b[0m",
            "\u001b[0;31mIndexError\u001b[0m: list index out of range"
          ]
        }
      ]
    },
    {
      "cell_type": "code",
      "source": [
        "# Print the item 10th from the end of the race_winner list\n",
        "print(race_winners[-10])"
      ],
      "metadata": {
        "id": "o8-9hA17sN_U",
        "colab": {
          "base_uri": "https://localhost:8080/",
          "height": 183
        },
        "outputId": "a32a5845-dc90-4774-c25c-23a6e691d0e3"
      },
      "execution_count": null,
      "outputs": [
        {
          "output_type": "error",
          "ename": "IndexError",
          "evalue": "ignored",
          "traceback": [
            "\u001b[0;31m---------------------------------------------------------------------------\u001b[0m",
            "\u001b[0;31mIndexError\u001b[0m                                Traceback (most recent call last)",
            "\u001b[0;32m<ipython-input-18-52456691f815>\u001b[0m in \u001b[0;36m<module>\u001b[0;34m\u001b[0m\n\u001b[1;32m      1\u001b[0m \u001b[0;31m# Print the item 10th from the end of the race_winner list\u001b[0m\u001b[0;34m\u001b[0m\u001b[0;34m\u001b[0m\u001b[0;34m\u001b[0m\u001b[0m\n\u001b[0;32m----> 2\u001b[0;31m \u001b[0mprint\u001b[0m\u001b[0;34m(\u001b[0m\u001b[0mrace_winners\u001b[0m\u001b[0;34m[\u001b[0m\u001b[0;34m-\u001b[0m\u001b[0;36m10\u001b[0m\u001b[0;34m]\u001b[0m\u001b[0;34m)\u001b[0m\u001b[0;34m\u001b[0m\u001b[0;34m\u001b[0m\u001b[0m\n\u001b[0m",
            "\u001b[0;31mIndexError\u001b[0m: list index out of range"
          ]
        }
      ]
    },
    {
      "cell_type": "markdown",
      "source": [
        "# Slicing"
      ],
      "metadata": {
        "id": "FRo3qcAlcI4v"
      }
    },
    {
      "cell_type": "markdown",
      "source": [
        "## Costume Shop Resupply\n",
        "\n",
        "A costume shop is ordering merchandise to replenish their stock.  Some items sell out very quickly and others are not as popular.  The shop keep track of how many of each item sells and makes tuple of items in order of most popular to least popular."
      ],
      "metadata": {
        "id": "ltbPs3qRlLdL"
      }
    },
    {
      "cell_type": "code",
      "source": [
        "# Create a tuple of costume merchandise\n",
        "merchandise = ('Fangs', 'Tutus', 'Clown Noses', 'Scrubs', 'Cowboy Hats', 'Face Paint', 'Plastic Swords')"
      ],
      "metadata": {
        "id": "cG5zzDadbxLW"
      },
      "execution_count": null,
      "outputs": []
    },
    {
      "cell_type": "markdown",
      "source": [
        "| Index          |   0   |    1  |     2       |   3    |         4   |    5       | 6              |\n",
        "|----------------|-------|-------|-------------|--------|-------------|------------|----------------|\n",
        "| merchandise =  | Fangs | Tutus | Clown Noses | Scrubs | Cowboy Hats | Face Paint | Plastic Swords |\n",
        "| Negative Index | -7    |   -6  |    -5       | -4     | -3          | -2         | -1             |"
      ],
      "metadata": {
        "id": "pxIvijkBCjtE"
      }
    },
    {
      "cell_type": "markdown",
      "source": [
        "### First 3"
      ],
      "metadata": {
        "id": "D19nzMITo5MM"
      }
    },
    {
      "cell_type": "markdown",
      "source": [
        "The shop wants to order plenty of their top 3 best sellers to make sure they keep them in stock.\n",
        "\n",
        "Slice into the `merchandise` tuple to return the first 3 elements of the tuple.  Remember:\n",
        "1. If there is no value before the colon the slice will begin at the beginning of the list.\n",
        "2. A slice **excludes** the index position after the colon."
      ],
      "metadata": {
        "id": "ewWVDhvAnjKs"
      }
    },
    {
      "cell_type": "code",
      "source": [
        "top_3 = merchandise[:3]\n",
        "\n",
        "print(top_3)"
      ],
      "metadata": {
        "id": "yiod1kLwnhzc",
        "colab": {
          "base_uri": "https://localhost:8080/"
        },
        "outputId": "9d5cbcc9-41e6-42f7-f0a2-811ce64d3476"
      },
      "execution_count": null,
      "outputs": [
        {
          "output_type": "stream",
          "name": "stdout",
          "text": [
            "('Fangs', 'Tutus', 'Clown Noses')\n"
          ]
        }
      ]
    },
    {
      "cell_type": "markdown",
      "source": [
        "# 💪 Your Turn\n",
        "\n",
        "## Last 2\n",
        "\n",
        "The shop wants to discontinue the two least popular items in the list.  \n",
        "\n",
        "* Slice into the `merchandise` tuple and return the last two elements.  Remember: \n",
        "  1. You can use negative indexing to count backward from the end of a collection\n",
        "  2. When you want to slice everything after a certain point in a collection, put the starting point before the colon and don't put anything after the colon."
      ],
      "metadata": {
        "id": "hEE2tRbho7lW"
      }
    },
    {
      "cell_type": "code",
      "source": [
        "# Slice out the last two elements of the tuple.\n",
        "last_2 = merchandise[-2:]\n",
        "# Print the result\n",
        "print(last_2)\n"
      ],
      "metadata": {
        "id": "Eu76Efzgos60",
        "colab": {
          "base_uri": "https://localhost:8080/"
        },
        "outputId": "a5bde907-f217-45bc-da10-8b9343b71e57"
      },
      "execution_count": null,
      "outputs": [
        {
          "output_type": "stream",
          "name": "stdout",
          "text": [
            "('Face Paint', 'Plastic Swords')\n"
          ]
        }
      ]
    },
    {
      "cell_type": "markdown",
      "source": [
        "## Middle Items\n",
        "\n",
        "Your supervisor is curious and for their own enjoyment they want you to show them the rest of the items in the list in order.  These would be the 4th through third to last items in the tuple.  Remember:\n",
        "\n",
        "1. A slice **includes** the index before the colon.\n",
        "2. A slice **excludes** the index after the colon.\n",
        "3. Negative indices count back from the end of the collection.\n",
        "4. Python indexing starts at 0, so the fourth item is at index 3."
      ],
      "metadata": {
        "id": "YdG4i71fqkdL"
      }
    },
    {
      "cell_type": "code",
      "source": [
        "# Slice out the 4th to 3rd to last items from the tuple\n",
        "middle_items = merchandise[3:-2]\n",
        "\n",
        "# Print the result\n",
        "print(middle_items)"
      ],
      "metadata": {
        "id": "AVJUOWndqHJT",
        "colab": {
          "base_uri": "https://localhost:8080/"
        },
        "outputId": "ddf27f56-9371-4ce7-fa5d-5cb81448684d"
      },
      "execution_count": null,
      "outputs": [
        {
          "output_type": "stream",
          "name": "stdout",
          "text": [
            "('Scrubs', 'Cowboy Hats')\n"
          ]
        }
      ]
    },
    {
      "cell_type": "markdown",
      "source": [
        "# Change 'Cowboy Hats' to 'Cowpoke Hats'\n",
        "\n",
        "In attempt to be more gender inclusive our supplier has changed 'Cowboy Hats' to 'Cowpoke Hats'.  Can we change this in our tuple?\n",
        "\n",
        "NO! Tuples are immutable. The below code will cause a `TypeError`."
      ],
      "metadata": {
        "id": "NRs5Kl0JreEz"
      }
    },
    {
      "cell_type": "code",
      "source": [
        "# Delete the two least popular items from the tuple\n",
        "merchandise[-3] = 'Cowpoke Hats'"
      ],
      "metadata": {
        "id": "kTu2lfYfrONj",
        "colab": {
          "base_uri": "https://localhost:8080/",
          "height": 183
        },
        "outputId": "c043ab89-1726-4edc-a605-f37c19505d0a"
      },
      "execution_count": null,
      "outputs": [
        {
          "output_type": "error",
          "ename": "TypeError",
          "evalue": "ignored",
          "traceback": [
            "\u001b[0;31m---------------------------------------------------------------------------\u001b[0m",
            "\u001b[0;31mTypeError\u001b[0m                                 Traceback (most recent call last)",
            "\u001b[0;32m<ipython-input-27-bc13a3f40ab4>\u001b[0m in \u001b[0;36m<module>\u001b[0;34m\u001b[0m\n\u001b[1;32m      1\u001b[0m \u001b[0;31m# Delete the two least popular items from the tuple\u001b[0m\u001b[0;34m\u001b[0m\u001b[0;34m\u001b[0m\u001b[0;34m\u001b[0m\u001b[0m\n\u001b[0;32m----> 2\u001b[0;31m \u001b[0mmerchandise\u001b[0m\u001b[0;34m[\u001b[0m\u001b[0;34m-\u001b[0m\u001b[0;36m3\u001b[0m\u001b[0;34m]\u001b[0m \u001b[0;34m=\u001b[0m \u001b[0;34m'Cowpoke Hats'\u001b[0m\u001b[0;34m\u001b[0m\u001b[0;34m\u001b[0m\u001b[0m\n\u001b[0m",
            "\u001b[0;31mTypeError\u001b[0m: 'tuple' object does not support item assignment"
          ]
        }
      ]
    },
    {
      "cell_type": "markdown",
      "source": [
        "# Summary\n",
        "\n",
        "In this lesson you learned how to use positive and negative indices to retrieve, delete, and change elements in lists and tuples.  Python indices start counting at 0 and negative indices count from the end of the collection.  You can index into a collection by using square brackets `collection[index]` at the end of a collection.  \n",
        "\n",
        "You can slice multiple items from a list or tuple by adding a colon `collection[start:end]` to your index.  A slice includes the index to the left of the colon and excludes the index to the right of the column."
      ],
      "metadata": {
        "id": "APirEhWdsrtz"
      }
    },
    {
      "cell_type": "code",
      "source": [],
      "metadata": {
        "id": "C-o-ocRErc7j"
      },
      "execution_count": null,
      "outputs": []
    }
  ]
}